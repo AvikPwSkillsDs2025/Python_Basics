{
  "nbformat": 4,
  "nbformat_minor": 0,
  "metadata": {
    "colab": {
      "provenance": []
    },
    "kernelspec": {
      "name": "python3",
      "display_name": "Python 3"
    },
    "language_info": {
      "name": "python"
    }
  },
  "cells": [
    {
      "cell_type": "markdown",
      "source": [],
      "metadata": {
        "id": "qy5DJ5cXNQIp"
      }
    },
    {
      "cell_type": "markdown",
      "source": [
        "#Python Basics Questions"
      ],
      "metadata": {
        "id": "rrNN0ftvQQCZ"
      }
    },
    {
      "cell_type": "markdown",
      "source": [
        "#1 What is Python, and why is it popular?\n",
        "    Python is a high-level, interpreted, object-oriented programming language.\n",
        "\n",
        "    Popular because:\n",
        "\n",
        "    ->Easy to learn (simple syntax).\n",
        "\n",
        "    ->Large standard library.\n",
        "\n",
        "    ->Supports multiple paradigms (OOP, functional, procedural).\n",
        "\n",
        "    ->Widely used in web dev, AI/ML, data science, automation."
      ],
      "metadata": {
        "id": "AHYL6ow2MUAJ"
      }
    },
    {
      "cell_type": "markdown",
      "source": [],
      "metadata": {
        "id": "5hIDtSGZQZEg"
      }
    },
    {
      "cell_type": "markdown",
      "source": [],
      "metadata": {
        "id": "fjXmVahxNSNk"
      }
    },
    {
      "cell_type": "markdown",
      "source": [
        "#2) What is an interpreter in Python?\n",
        "\n",
        "An interpreter executes Python code line by line.\n",
        "\n",
        "Converts Python code → machine-readable instructions at runtime.\n",
        "\n",
        "Unlike a compiler, no need for full compilation before execution."
      ],
      "metadata": {
        "id": "lcuBr6XGNcic"
      }
    },
    {
      "cell_type": "markdown",
      "source": [
        "#3) What are pre-defined keywords in Python?\n",
        "\n",
        "Keywords are reserved words with special meaning (e.g., if, else, for, while, True, False).\n",
        "\n",
        "Defined by Python, cannot be redefined.\n",
        "\n",
        "Checked using:  "
      ],
      "metadata": {
        "id": "U8wla-67Nhqv"
      }
    },
    {
      "cell_type": "code",
      "source": [
        "help('keywords')"
      ],
      "metadata": {
        "colab": {
          "base_uri": "https://localhost:8080/"
        },
        "id": "PIPHHuHjNplf",
        "outputId": "153287e6-a95b-4985-b84e-eedaabdb84d7"
      },
      "execution_count": 2,
      "outputs": [
        {
          "output_type": "stream",
          "name": "stdout",
          "text": [
            "\n",
            "Here is a list of the Python keywords.  Enter any keyword to get more help.\n",
            "\n",
            "False               class               from                or\n",
            "None                continue            global              pass\n",
            "True                def                 if                  raise\n",
            "and                 del                 import              return\n",
            "as                  elif                in                  try\n",
            "assert              else                is                  while\n",
            "async               except              lambda              with\n",
            "await               finally             nonlocal            yield\n",
            "break               for                 not                 \n",
            "\n"
          ]
        }
      ]
    },
    {
      "cell_type": "markdown",
      "source": [
        "#4) Can keywords be used as variable names?\n",
        "\n",
        "No, keywords cannot be used as identifiers."
      ],
      "metadata": {
        "id": "x_L5YWdwNxOb"
      }
    },
    {
      "cell_type": "markdown",
      "source": [
        "#5) What is mutability in Python?\n",
        "\n",
        "Mutability: Ability of an object to be changed after creation.\n",
        "\n",
        "Example: Lists are mutable; strings and tuples are immutable."
      ],
      "metadata": {
        "id": "uWH11bt4N7zd"
      }
    },
    {
      "cell_type": "markdown",
      "source": [
        "#6)Why are lists mutable, but tuples are immutable?\n",
        "\n",
        "Lists: Designed for dynamic data, allow modifications (add, remove, update).\n",
        "\n",
        "Tuples: Designed for fixed data, stored in a way that prevents modification (saves memory, faster)."
      ],
      "metadata": {
        "id": "JrDsO3CXOF0g"
      }
    },
    {
      "cell_type": "markdown",
      "source": [
        "#7) What is the difference between == and is operators in Python?\n",
        "\n",
        "== → checks values (content equality).\n",
        "\n",
        "is → checks identity (whether two variables point to the same memory object"
      ],
      "metadata": {
        "id": "2BMt-aAkOMqn"
      }
    },
    {
      "cell_type": "markdown",
      "source": [],
      "metadata": {
        "id": "8sT5FFOEOacI"
      }
    },
    {
      "cell_type": "code",
      "source": [
        "a = [1,2]\n",
        "b = [1,2]\n",
        "print(a == b)  # True\n",
        "print(a is b)  # False\n"
      ],
      "metadata": {
        "colab": {
          "base_uri": "https://localhost:8080/"
        },
        "id": "jflThoyVOcTl",
        "outputId": "a5efb1fe-4b25-46a4-ee2d-c64f37c63c29"
      },
      "execution_count": 1,
      "outputs": [
        {
          "output_type": "stream",
          "name": "stdout",
          "text": [
            "True\n",
            "False\n"
          ]
        }
      ]
    },
    {
      "cell_type": "markdown",
      "source": [
        "#8) What are logical operators in Python?\n",
        "\n",
        "Operators used for logical decisions:\n",
        "\n",
        "and → True if both are True.\n",
        "\n",
        "or → True if at least one is True.\n",
        "\n",
        "not → Negates the boolean value."
      ],
      "metadata": {
        "id": "JKnJxDv7Ol5y"
      }
    },
    {
      "cell_type": "markdown",
      "source": [
        "#9) What is type casting in Python?\n",
        "\n",
        "Converting one data type into another.\n",
        "\n",
        "Example:"
      ],
      "metadata": {
        "id": "BEQtTSFlOqj1"
      }
    },
    {
      "cell_type": "code",
      "source": [
        "a = \"123\"\n",
        "b = int(a)  # explicit casting\n",
        "type(b)"
      ],
      "metadata": {
        "colab": {
          "base_uri": "https://localhost:8080/"
        },
        "id": "ffTtrjemOzWO",
        "outputId": "eb3d1dd6-66c9-4690-c74f-325f5cc5d96e"
      },
      "execution_count": 4,
      "outputs": [
        {
          "output_type": "execute_result",
          "data": {
            "text/plain": [
              "int"
            ]
          },
          "metadata": {},
          "execution_count": 4
        }
      ]
    },
    {
      "cell_type": "code",
      "source": [],
      "metadata": {
        "id": "TtrPfAqjO2aa"
      },
      "execution_count": null,
      "outputs": []
    },
    {
      "cell_type": "markdown",
      "source": [
        "#10) Difference between implicit and explicit type casting?\n",
        "\n",
        "Implicit: Done automatically by Python (e.g., int + float → float).\n",
        "\n",
        "Explicit: Done by the programmer using functions like int(), float(), str()."
      ],
      "metadata": {
        "id": "jHg55EfAPOdh"
      }
    },
    {
      "cell_type": "markdown",
      "source": [
        "#11) Purpose of conditional statements in Python?\n",
        "\n",
        "To control the flow of execution based on conditions.\n",
        "\n",
        "Example: if, elif, else."
      ],
      "metadata": {
        "id": "92v7rTA-PQwq"
      }
    },
    {
      "cell_type": "markdown",
      "source": [
        "#12) How does the elif statement work?\n",
        "elif means \"else if\".\n",
        "\n",
        "Used for multiple conditions.\n",
        "\n",
        "Checked only if previous if was False."
      ],
      "metadata": {
        "id": "6UOlIU9HPYSb"
      }
    },
    {
      "cell_type": "markdown",
      "source": [
        "#13) Difference between for and while loops?\n",
        "\n",
        "for loop → Used when number of iterations is known (iterates over sequence).\n",
        "\n",
        "while loop → Used when iterations are based on a condition."
      ],
      "metadata": {
        "id": "Nh315HazPtKn"
      }
    },
    {
      "cell_type": "markdown",
      "source": [
        "#14)Scenario where a while loop is more suitable than a for loop?\n",
        "\n",
        "When the number of iterations is not fixed.\n",
        "\n",
        "Example: Keep asking for user input until they enter \"exit\"."
      ],
      "metadata": {
        "id": "6cTi_qGKPzrR"
      }
    },
    {
      "cell_type": "code",
      "source": [
        "word = \"\"\n",
        "while word != \"exit\":\n",
        "    word = input(\"Enter word: \")\n"
      ],
      "metadata": {
        "colab": {
          "base_uri": "https://localhost:8080/"
        },
        "id": "T_uMAp1tP_0D",
        "outputId": "780f8f01-56b2-479a-f8c6-34cb32da887e"
      },
      "execution_count": 5,
      "outputs": [
        {
          "name": "stdout",
          "output_type": "stream",
          "text": [
            "Enter word: Avik\n",
            "Enter word: advd\n",
            "Enter word: exit\n"
          ]
        }
      ]
    },
    {
      "cell_type": "markdown",
      "source": [
        "#PRACTICAL QUESTIONS"
      ],
      "metadata": {
        "id": "2y7nQELXQJq-"
      }
    },
    {
      "cell_type": "markdown",
      "source": [
        "#1) Write a Python program to print \"Hello, World!"
      ],
      "metadata": {
        "id": "IUc6SLFLQbBz"
      }
    },
    {
      "cell_type": "code",
      "source": [
        "print(\"Hello World\")"
      ],
      "metadata": {
        "colab": {
          "base_uri": "https://localhost:8080/"
        },
        "id": "tf3rr9V8Qevs",
        "outputId": "2d1de523-cc62-4f47-9f72-974498995f55"
      },
      "execution_count": 6,
      "outputs": [
        {
          "output_type": "stream",
          "name": "stdout",
          "text": [
            "Hello World\n"
          ]
        }
      ]
    },
    {
      "cell_type": "markdown",
      "source": [
        "#2)Write a Python program that displays your name and age"
      ],
      "metadata": {
        "id": "CIdiwlRAQjYB"
      }
    },
    {
      "cell_type": "code",
      "source": [
        "name = \"Avik Das\"\n",
        "age = \" 20\"\n",
        "print(\"My name is\" ,name)\n",
        "print(\"MY age is \",age)"
      ],
      "metadata": {
        "colab": {
          "base_uri": "https://localhost:8080/"
        },
        "id": "ZIC0esylQpJP",
        "outputId": "dd798159-caa0-4a88-8adb-7a0a9fbd7c11"
      },
      "execution_count": 7,
      "outputs": [
        {
          "output_type": "stream",
          "name": "stdout",
          "text": [
            "My name is Avik Das\n",
            "MY age is   20\n"
          ]
        }
      ]
    },
    {
      "cell_type": "markdown",
      "source": [
        "#3)Write code to print all the pre-defined keywords in Python using the keyword library"
      ],
      "metadata": {
        "id": "zqyxJLtuQ77e"
      }
    },
    {
      "cell_type": "code",
      "source": [
        "help('keywords')"
      ],
      "metadata": {
        "colab": {
          "base_uri": "https://localhost:8080/"
        },
        "id": "Z0nPNRYIRC8_",
        "outputId": "8fa73337-b979-477b-b213-a47eb0c9dafb"
      },
      "execution_count": 8,
      "outputs": [
        {
          "output_type": "stream",
          "name": "stdout",
          "text": [
            "\n",
            "Here is a list of the Python keywords.  Enter any keyword to get more help.\n",
            "\n",
            "False               class               from                or\n",
            "None                continue            global              pass\n",
            "True                def                 if                  raise\n",
            "and                 del                 import              return\n",
            "as                  elif                in                  try\n",
            "assert              else                is                  while\n",
            "async               except              lambda              with\n",
            "await               finally             nonlocal            yield\n",
            "break               for                 not                 \n",
            "\n"
          ]
        }
      ]
    },
    {
      "cell_type": "markdown",
      "source": [
        "#4) Write a program that checks if a given word is a Python keyword."
      ],
      "metadata": {
        "id": "S0TXzvdbRKwT"
      }
    },
    {
      "cell_type": "code",
      "source": [
        "import keyword\n",
        "My_keyword = \"escape\"\n",
        "if keyword.iskeyword(My_keyword):\n",
        "           print(\"Its a keyword\")\n",
        "else:\n",
        "  print(\"Its not\")"
      ],
      "metadata": {
        "colab": {
          "base_uri": "https://localhost:8080/"
        },
        "id": "v8vMMkthRQ9G",
        "outputId": "1d737b84-5453-4fae-ca71-75e7c6de4481"
      },
      "execution_count": 11,
      "outputs": [
        {
          "output_type": "stream",
          "name": "stdout",
          "text": [
            "Its not\n"
          ]
        }
      ]
    },
    {
      "cell_type": "code",
      "source": [
        "import keyword\n",
        "My_keyword = \"except\"\n",
        "if keyword.iskeyword(My_keyword):\n",
        "           print(\"Its a keyword\")\n",
        "else:\n",
        "  print(\"Its not\")"
      ],
      "metadata": {
        "colab": {
          "base_uri": "https://localhost:8080/"
        },
        "id": "02w79qeCRuGC",
        "outputId": "b2482fcf-022a-48e7-d019-441dcc02d22e"
      },
      "execution_count": 12,
      "outputs": [
        {
          "output_type": "stream",
          "name": "stdout",
          "text": [
            "Its a keyword\n"
          ]
        }
      ]
    },
    {
      "cell_type": "markdown",
      "source": [
        "#5) Create a list and tuple in Python, and demonstrate how attempting to change an element works differently for each."
      ],
      "metadata": {
        "id": "ZZW2LAweSCQF"
      }
    },
    {
      "cell_type": "code",
      "source": [
        "My_list = [\"Avik\",3+5j,12,2.444,\"pwskills\"]# lists are usually mutable objects which means they can be changed later words once created ....usually [] is the sign for the brackets\n",
        "My_list[0] = \"Avik is Handsome\"\n",
        "My_list"
      ],
      "metadata": {
        "colab": {
          "base_uri": "https://localhost:8080/"
        },
        "id": "TfNaOz5FSML1",
        "outputId": "0c113d95-c5e3-4636-8d7a-d17f60ba8c24"
      },
      "execution_count": 14,
      "outputs": [
        {
          "output_type": "execute_result",
          "data": {
            "text/plain": [
              "['Avik is Handsome', (3+5j), 12, 2.444, 'pwskills']"
            ]
          },
          "metadata": {},
          "execution_count": 14
        }
      ]
    },
    {
      "cell_type": "code",
      "source": [
        "My_tuple = (\"Avik\",3+5j,12,2.444,\"pwskills\")# tuples are usually immutable oblects which means they cant be changed once created ...usually () is the sign for the brackets\n",
        "My_tuple[0] = \"Avik is Handsome\""
      ],
      "metadata": {
        "colab": {
          "base_uri": "https://localhost:8080/",
          "height": 176
        },
        "id": "93oLxYVrSlyK",
        "outputId": "ca0bda50-7009-4675-aa0a-8e6df3f93c80"
      },
      "execution_count": 15,
      "outputs": [
        {
          "output_type": "error",
          "ename": "TypeError",
          "evalue": "'tuple' object does not support item assignment",
          "traceback": [
            "\u001b[0;31m---------------------------------------------------------------------------\u001b[0m",
            "\u001b[0;31mTypeError\u001b[0m                                 Traceback (most recent call last)",
            "\u001b[0;32m/tmp/ipython-input-3961015663.py\u001b[0m in \u001b[0;36m<cell line: 0>\u001b[0;34m()\u001b[0m\n\u001b[1;32m      1\u001b[0m \u001b[0mMy_tuple\u001b[0m \u001b[0;34m=\u001b[0m \u001b[0;34m(\u001b[0m\u001b[0;34m\"Avik\"\u001b[0m\u001b[0;34m,\u001b[0m\u001b[0;36m3\u001b[0m\u001b[0;34m+\u001b[0m\u001b[0;36m5j\u001b[0m\u001b[0;34m,\u001b[0m\u001b[0;36m12\u001b[0m\u001b[0;34m,\u001b[0m\u001b[0;36m2.444\u001b[0m\u001b[0;34m,\u001b[0m\u001b[0;34m\"pwskills\"\u001b[0m\u001b[0;34m)\u001b[0m\u001b[0;31m# tuples are usually immutable oblects which means they cant be changed once created ...usually () is the sign for the brackets\u001b[0m\u001b[0;34m\u001b[0m\u001b[0;34m\u001b[0m\u001b[0m\n\u001b[0;32m----> 2\u001b[0;31m \u001b[0mMy_tuple\u001b[0m\u001b[0;34m[\u001b[0m\u001b[0;36m0\u001b[0m\u001b[0;34m]\u001b[0m \u001b[0;34m=\u001b[0m \u001b[0;34m\"Avik is Handsome\"\u001b[0m\u001b[0;34m\u001b[0m\u001b[0;34m\u001b[0m\u001b[0m\n\u001b[0m",
            "\u001b[0;31mTypeError\u001b[0m: 'tuple' object does not support item assignment"
          ]
        }
      ]
    },
    {
      "cell_type": "markdown",
      "source": [
        "#6)Write a function to demonstrate the behavior of mutable and immutable arguments."
      ],
      "metadata": {
        "id": "x-CLABsFT2s6"
      }
    },
    {
      "cell_type": "code",
      "source": [],
      "metadata": {
        "id": "KWLX1Q3HT7pS"
      },
      "execution_count": null,
      "outputs": []
    },
    {
      "cell_type": "markdown",
      "source": [],
      "metadata": {
        "id": "_P4yErHmT0Xd"
      }
    },
    {
      "cell_type": "code",
      "source": [],
      "metadata": {
        "id": "MNtuoJ45TlXI"
      },
      "execution_count": null,
      "outputs": []
    },
    {
      "cell_type": "markdown",
      "source": [
        "#7)  Write a program that performs basic arithmetic operations on two user-input numbers."
      ],
      "metadata": {
        "id": "idAdvwpvUNHW"
      }
    },
    {
      "cell_type": "code",
      "source": [
        "# Simple arithmetic operations\n",
        "\n",
        "a = float(input(\"Enter first number: \"))\n",
        "b = float(input(\"Enter second number: \"))\n",
        "\n",
        "print(\"Addition:\", a + b)\n",
        "print(\"Subtraction:\", a - b)\n",
        "print(\"Multiplication:\", a * b)\n",
        "print(\"Division:\", a / b)\n"
      ],
      "metadata": {
        "colab": {
          "base_uri": "https://localhost:8080/"
        },
        "id": "iMHodtFIUPGd",
        "outputId": "262d3627-3bf7-4a2d-adbf-fd32a3eefd9b"
      },
      "execution_count": 17,
      "outputs": [
        {
          "output_type": "stream",
          "name": "stdout",
          "text": [
            "Enter first number: 2\n",
            "Enter second number: 3\n",
            "Addition: 5.0\n",
            "Subtraction: -1.0\n",
            "Multiplication: 6.0\n",
            "Division: 0.6666666666666666\n"
          ]
        }
      ]
    },
    {
      "cell_type": "markdown",
      "source": [
        "#8)Write a program to demonstrate the use of logical operators"
      ],
      "metadata": {
        "id": "lUql7lhaUcua"
      }
    },
    {
      "cell_type": "code",
      "source": [
        "# Program to demonstrate logical operators\n",
        "\n",
        "a = True\n",
        "b = False\n",
        "\n",
        "print(\"a =\", a)\n",
        "print(\"b =\", b)\n",
        "\n",
        "# Logical AND\n",
        "print(\"a and b =\", a and b)\n",
        "\n",
        "# Logical OR\n",
        "print(\"a or b =\", a or b)\n",
        "\n",
        "# Logical NOT\n",
        "print(\"not a =\", not a)\n",
        "print(\"not b =\", not b)\n"
      ],
      "metadata": {
        "colab": {
          "base_uri": "https://localhost:8080/"
        },
        "id": "awkETYg_Ujp7",
        "outputId": "04d1ecd2-d1c6-459d-ba14-4966c0b21032"
      },
      "execution_count": 18,
      "outputs": [
        {
          "output_type": "stream",
          "name": "stdout",
          "text": [
            "a = True\n",
            "b = False\n",
            "a and b = False\n",
            "a or b = True\n",
            "not a = False\n",
            "not b = True\n"
          ]
        }
      ]
    },
    {
      "cell_type": "code",
      "source": [],
      "metadata": {
        "id": "B0a6WHXbUrgY"
      },
      "execution_count": null,
      "outputs": []
    },
    {
      "cell_type": "markdown",
      "source": [
        "#9) Write a Python program to convert user input from string to integer, float, and boolean types."
      ],
      "metadata": {
        "id": "7QqirQpQUs9b"
      }
    },
    {
      "cell_type": "code",
      "source": [
        "# Program to convert user input into different types\n",
        "\n",
        "user_input = input(\"Enter something: \")\n",
        "\n",
        "print(\"String:\", user_input)\n",
        "print(\"Integer:\", int(user_input))\n",
        "print(\"Float:\", float(user_input))\n",
        "print(\"Boolean:\", bool(user_input))\n"
      ],
      "metadata": {
        "colab": {
          "base_uri": "https://localhost:8080/"
        },
        "id": "pGFgi6KDU0Qu",
        "outputId": "2654affb-272f-4a2f-ad17-a69623bb230b"
      },
      "execution_count": 19,
      "outputs": [
        {
          "output_type": "stream",
          "name": "stdout",
          "text": [
            "Enter something: 34\n",
            "String: 34\n",
            "Integer: 34\n",
            "Float: 34.0\n",
            "Boolean: True\n"
          ]
        }
      ]
    },
    {
      "cell_type": "code",
      "source": [],
      "metadata": {
        "id": "Ma7K1mBVUxy7"
      },
      "execution_count": null,
      "outputs": []
    },
    {
      "cell_type": "code",
      "source": [],
      "metadata": {
        "id": "I3QJ_vu8VAbP"
      },
      "execution_count": null,
      "outputs": []
    },
    {
      "cell_type": "markdown",
      "source": [
        "#10)  Write code to demonstrate type casting with list elements."
      ],
      "metadata": {
        "id": "qCzB-cNnVAq3"
      }
    },
    {
      "cell_type": "code",
      "source": [
        "l = [23 ,2.44444,\"123333\"]\n",
        "int(l[2])"
      ],
      "metadata": {
        "colab": {
          "base_uri": "https://localhost:8080/"
        },
        "id": "tx5_uZptVF76",
        "outputId": "dcbcd684-d85f-43ef-a5c6-56b5dd399e66"
      },
      "execution_count": 24,
      "outputs": [
        {
          "output_type": "execute_result",
          "data": {
            "text/plain": [
              "123333"
            ]
          },
          "metadata": {},
          "execution_count": 24
        }
      ]
    },
    {
      "cell_type": "code",
      "source": [],
      "metadata": {
        "id": "5B_KcY-GVy4M"
      },
      "execution_count": null,
      "outputs": []
    },
    {
      "cell_type": "code",
      "source": [],
      "metadata": {
        "id": "knb_9LYRV38A"
      },
      "execution_count": null,
      "outputs": []
    },
    {
      "cell_type": "markdown",
      "source": [
        "#11)Write a program that checks if a number is positive, negative, or zero."
      ],
      "metadata": {
        "id": "0Gwc2LHPV5hN"
      }
    },
    {
      "cell_type": "code",
      "source": [
        "n = int(input(\"Enter a no\"))\n",
        "if n>0:\n",
        "  print(\"positive\")\n",
        "elif n == 0:\n",
        "  print(\"Zero\")\n",
        "else:\n",
        "  print(\"Negative\")"
      ],
      "metadata": {
        "colab": {
          "base_uri": "https://localhost:8080/"
        },
        "id": "7-vFgKWhV-cp",
        "outputId": "10e2809b-92b3-462d-ec2b-e94c04d875ec"
      },
      "execution_count": 26,
      "outputs": [
        {
          "output_type": "stream",
          "name": "stdout",
          "text": [
            "Enter a no-3\n",
            "Negative\n"
          ]
        }
      ]
    },
    {
      "cell_type": "code",
      "source": [],
      "metadata": {
        "id": "2EGm_Zy3WSmY"
      },
      "execution_count": null,
      "outputs": []
    },
    {
      "cell_type": "markdown",
      "source": [
        "#12)  Write a for loop to print numbers from 1 to 10."
      ],
      "metadata": {
        "id": "CMffswEqWUwf"
      }
    },
    {
      "cell_type": "code",
      "source": [
        "for i in range(1,11):\n",
        "  print(i)"
      ],
      "metadata": {
        "colab": {
          "base_uri": "https://localhost:8080/"
        },
        "id": "n7uiGvgzWY0W",
        "outputId": "41b4bbfb-6b5c-43c8-cdb0-8ffb506faf79"
      },
      "execution_count": 27,
      "outputs": [
        {
          "output_type": "stream",
          "name": "stdout",
          "text": [
            "1\n",
            "2\n",
            "3\n",
            "4\n",
            "5\n",
            "6\n",
            "7\n",
            "8\n",
            "9\n",
            "10\n"
          ]
        }
      ]
    },
    {
      "cell_type": "code",
      "source": [],
      "metadata": {
        "id": "HNu-aE-6WgMo"
      },
      "execution_count": null,
      "outputs": []
    },
    {
      "cell_type": "markdown",
      "source": [
        "#13)  Write a Python program to find the sum of all even numbers between 1 and 50."
      ],
      "metadata": {
        "id": "vCTSolTRWhQf"
      }
    },
    {
      "cell_type": "code",
      "source": [
        "for i in range (1,50):\n",
        "  if(i%2 == 0):\n",
        "     print(i)\n"
      ],
      "metadata": {
        "colab": {
          "base_uri": "https://localhost:8080/"
        },
        "id": "Gt44K1NdWnyj",
        "outputId": "0b097965-83d6-4d13-dfc5-e8d436c4deb8"
      },
      "execution_count": 28,
      "outputs": [
        {
          "output_type": "stream",
          "name": "stdout",
          "text": [
            "2\n",
            "4\n",
            "6\n",
            "8\n",
            "10\n",
            "12\n",
            "14\n",
            "16\n",
            "18\n",
            "20\n",
            "22\n",
            "24\n",
            "26\n",
            "28\n",
            "30\n",
            "32\n",
            "34\n",
            "36\n",
            "38\n",
            "40\n",
            "42\n",
            "44\n",
            "46\n",
            "48\n"
          ]
        }
      ]
    },
    {
      "cell_type": "code",
      "source": [],
      "metadata": {
        "id": "BCtQyPNbW0gQ"
      },
      "execution_count": null,
      "outputs": []
    },
    {
      "cell_type": "code",
      "source": [],
      "metadata": {
        "id": "dM4BbsOHW2Mv"
      },
      "execution_count": null,
      "outputs": []
    },
    {
      "cell_type": "markdown",
      "source": [
        "#14)  Write a program to reverse a string using a while loop"
      ],
      "metadata": {
        "id": "pTdIrRWFW2ca"
      }
    },
    {
      "cell_type": "code",
      "source": [
        "str = input(\"Enter a string\")\n",
        "\n",
        "i = len(str)-1\n",
        "rev = \"\"\n",
        "\n",
        "while i>=0:\n",
        "  rev = rev +str[i]\n",
        "  i = i-1\n",
        "print(rev)"
      ],
      "metadata": {
        "colab": {
          "base_uri": "https://localhost:8080/"
        },
        "id": "suVWsCY7W7bA",
        "outputId": "c3a19a19-a4a8-4a67-e8a3-74077f3f8c93"
      },
      "execution_count": 29,
      "outputs": [
        {
          "output_type": "stream",
          "name": "stdout",
          "text": [
            "Enter a stringAVIK\n",
            "KIVA\n"
          ]
        }
      ]
    },
    {
      "cell_type": "code",
      "source": [],
      "metadata": {
        "id": "saD2GVEnXPIk"
      },
      "execution_count": null,
      "outputs": []
    },
    {
      "cell_type": "markdown",
      "source": [
        "#15)  Write a Python program to calculate the factorial of a number provided by the user using a while loop."
      ],
      "metadata": {
        "id": "FLUFGqnyXRZP"
      }
    },
    {
      "cell_type": "code",
      "source": [
        "fact = 1\n",
        "n = int(input(\"Enter a number\"))\n",
        "for i in range(1,n+1):\n",
        "    fact = fact*i\n",
        "print(\"The factorial is\",fact)"
      ],
      "metadata": {
        "colab": {
          "base_uri": "https://localhost:8080/"
        },
        "id": "bw5N7kNcXWgk",
        "outputId": "9cc574c5-6faa-43ce-a7b9-3a15756f9e13"
      },
      "execution_count": 32,
      "outputs": [
        {
          "output_type": "stream",
          "name": "stdout",
          "text": [
            "Enter a number5\n",
            "The factorial is 120\n"
          ]
        }
      ]
    },
    {
      "cell_type": "code",
      "source": [],
      "metadata": {
        "id": "B9DzXaeuX3T1"
      },
      "execution_count": null,
      "outputs": []
    }
  ]
}